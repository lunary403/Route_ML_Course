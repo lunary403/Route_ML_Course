{
  "nbformat": 4,
  "nbformat_minor": 0,
  "metadata": {
    "colab": {
      "provenance": [],
      "authorship_tag": "ABX9TyP8K0Gqy7cMuXKpxQo1MrOU",
      "include_colab_link": true
    },
    "kernelspec": {
      "name": "python3",
      "display_name": "Python 3"
    },
    "language_info": {
      "name": "python"
    }
  },
  "cells": [
    {
      "cell_type": "markdown",
      "metadata": {
        "id": "view-in-github",
        "colab_type": "text"
      },
      "source": [
        "<a href=\"https://colab.research.google.com/github/lunary403/Route_ML_Course/blob/main/web_scraping.ipynb\" target=\"_parent\"><img src=\"https://colab.research.google.com/assets/colab-badge.svg\" alt=\"Open In Colab\"/></a>"
      ]
    },
    {
      "cell_type": "code",
      "execution_count": 3,
      "metadata": {
        "colab": {
          "base_uri": "https://localhost:8080/"
        },
        "id": "VK9P_pjqpREt",
        "outputId": "46cffefd-049a-482d-91a7-c42f4e1ff9b5"
      },
      "outputs": [
        {
          "output_type": "stream",
          "name": "stdout",
          "text": [
            "date (month/day/year): 17/12/2022\n",
            "file created\n"
          ]
        }
      ],
      "source": [
        "import requests\n",
        "from bs4 import BeautifulSoup\n",
        "import csv\n",
        "\n",
        "date = input(\"date (month/day/year): \")\n",
        "page = requests.get(f\"https://www.yallakora.com/Match-center/?date={date}\")\n",
        "\n",
        "def main(page):\n",
        "    src = page.content\n",
        "    soup = BeautifulSoup(src, \"lxml\")\n",
        "    matches_details = []\n",
        "    championships = soup.find_all(\"div\", {'class': 'matchCard'})\n",
        "\n",
        "    def get_match_info(championships):\n",
        "\n",
        "        championship_title = championships.contents[1].find(\"h2\").text.strip()\n",
        "        all_matches = championships.contents[3].find_all('li')\n",
        "        num_of_matches = len(all_matches)\n",
        "\n",
        "        for i in range(num_of_matches):\n",
        "            teamA = all_matches[i].find('div', {'class': 'teamA'}).text.strip()\n",
        "            teamB = all_matches[i].find('div', {'class': 'teamB'}).text.strip()\n",
        "\n",
        "            match_results = all_matches[i].find('div', {'class' : 'MResult'}).find_all('span', {'class': 'score'})\n",
        "            score = f\"{match_results[0].text.strip()} - {match_results[1].text.strip()}\"\n",
        "\n",
        "            match_times = all_matches[i].find('div', {'class': 'MResult'}). find('span', {'class': 'time'}).text.strip()\n",
        "\n",
        "            matches_details.append({\"championship type\": championship_title, \"first team\": teamA, \"second team\": teamB, \"match time\": match_times, \"final score\": score })\n",
        "\n",
        "\n",
        "    for i in range(len(championships)):\n",
        "        get_match_info(championships[i])\n",
        "\n",
        "    keys = matches_details[0].keys()\n",
        "\n",
        "    with open('matchesdetails.csv', 'w') as output_file:\n",
        "        writer = csv.DictWriter(output_file, keys)\n",
        "        writer.writeheader()\n",
        "        writer.writerows(matches_details)\n",
        "        print(\"file created\")\n",
        "\n",
        "main(page)"
      ]
    }
  ]
}