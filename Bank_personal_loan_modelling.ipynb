{
  "nbformat": 4,
  "nbformat_minor": 0,
  "metadata": {
    "colab": {
      "provenance": [],
      "authorship_tag": "ABX9TyOYRMaE1IUWJUBCCRMLxQFP",
      "include_colab_link": true
    },
    "kernelspec": {
      "name": "python3",
      "display_name": "Python 3"
    },
    "language_info": {
      "name": "python"
    }
  },
  "cells": [
    {
      "cell_type": "markdown",
      "metadata": {
        "id": "view-in-github",
        "colab_type": "text"
      },
      "source": [
        "<a href=\"https://colab.research.google.com/github/lunary403/Route_ML_Course/blob/main/Bank_personal_loan_modelling.ipynb\" target=\"_parent\"><img src=\"https://colab.research.google.com/assets/colab-badge.svg\" alt=\"Open In Colab\"/></a>"
      ]
    },
    {
      "cell_type": "code",
      "execution_count": null,
      "metadata": {
        "id": "l8y_LAr74sQh"
      },
      "outputs": [],
      "source": [
        "import pandas as pd\n",
        "import matplotlib.pyplot as plt\n",
        "import seaborn as sns\n",
        "import numpy as np\n",
        "from sklearn.preprocessing import LabelEncoder\n",
        "from sklearn.preprocessing import MinMaxScaler\n",
        "\n",
        "from sklearn.linear_model import LinearRegression\n",
        "from sklearn.model_selection import train_test_split\n",
        "\n",
        "from sklearn.preprocessing import StandardScaler\n",
        "\n",
        "from sklearn import metrics\n",
        "\n",
        "from sklearn.model_selection import train_test_split"
      ]
    },
    {
      "cell_type": "code",
      "source": [
        "df = pd.read_csv(\"/content/Bank_Personal_Loan_Modelling_classification.csv\"  , encoding='latin-1')\n",
        "df.info()"
      ],
      "metadata": {
        "id": "hSW4ug6_6rbd"
      },
      "execution_count": null,
      "outputs": []
    },
    {
      "cell_type": "code",
      "source": [
        "df_shuffled = df.sample(n = len(df), random_state = 1)"
      ],
      "metadata": {
        "id": "XNpLOo-78YAQ"
      },
      "execution_count": null,
      "outputs": []
    },
    {
      "cell_type": "code",
      "source": [
        "df_shuffled['CreditCard'].isnull().sum()"
      ],
      "metadata": {
        "id": "p2zwtemn8dUG"
      },
      "execution_count": null,
      "outputs": []
    },
    {
      "cell_type": "code",
      "source": [
        "df_shuffled.Age.value_counts()"
      ],
      "metadata": {
        "id": "HnL_NqHMCGHj"
      },
      "execution_count": null,
      "outputs": []
    },
    {
      "cell_type": "code",
      "source": [
        "df_shuffled.Age[df_shuffled.Age =='?'] = 35\n",
        "df_shuffled.Age[df_shuffled.Age =='Nan'] = 0\n",
        "\n"
      ],
      "metadata": {
        "id": "atYW3I2IDO9Y"
      },
      "execution_count": null,
      "outputs": []
    },
    {
      "cell_type": "code",
      "source": [
        "df_shuffled['Age'] = df_shuffled['Age'].fillna(0)"
      ],
      "metadata": {
        "id": "k5eRDDYAK8eV"
      },
      "execution_count": null,
      "outputs": []
    },
    {
      "cell_type": "code",
      "source": [
        "df_shuffled.Age.value_counts()"
      ],
      "metadata": {
        "id": "ofQrJ_LgEz4y"
      },
      "execution_count": null,
      "outputs": []
    },
    {
      "cell_type": "code",
      "source": [
        "df_shuffled['Age'] = df_shuffled['Age'].astype(str).astype(int)"
      ],
      "metadata": {
        "id": "yvyy6jDCE8Xs"
      },
      "execution_count": null,
      "outputs": []
    },
    {
      "cell_type": "code",
      "source": [
        "df_shuffled.info()"
      ],
      "metadata": {
        "id": "iQJw7ONYLayR"
      },
      "execution_count": null,
      "outputs": []
    },
    {
      "cell_type": "code",
      "source": [
        "df_shuffled.Experience.value_counts()"
      ],
      "metadata": {
        "id": "5WHBzX9SMbyv"
      },
      "execution_count": null,
      "outputs": []
    },
    {
      "cell_type": "code",
      "source": [
        "df_shuffled.Experience[df_shuffled.Experience =='Nan'] = 0\n"
      ],
      "metadata": {
        "id": "5uwTtdYSX4he"
      },
      "execution_count": null,
      "outputs": []
    },
    {
      "cell_type": "code",
      "source": [
        "df_shuffled['Experience'] = df_shuffled['Experience'].astype(str).astype(int).abs()\n"
      ],
      "metadata": {
        "id": "6mgYSbR_M7dh"
      },
      "execution_count": null,
      "outputs": []
    },
    {
      "cell_type": "code",
      "source": [
        "df_shuffled.info()"
      ],
      "metadata": {
        "id": "lvpypnpeaoLU"
      },
      "execution_count": null,
      "outputs": []
    },
    {
      "cell_type": "code",
      "source": [
        "df_shuffled = df_shuffled.rename(columns={'ZIP Code': 'ZIP_Code'})\n"
      ],
      "metadata": {
        "id": "sjTd39topxsf"
      },
      "execution_count": null,
      "outputs": []
    },
    {
      "cell_type": "code",
      "source": [
        "df_shuffled.ZIP_Code.value_counts()"
      ],
      "metadata": {
        "id": "E37dEYkNoTsT"
      },
      "execution_count": null,
      "outputs": []
    },
    {
      "cell_type": "code",
      "source": [
        "df_shuffled.ZIP_Code[df_shuffled.ZIP_Code =='Nan'] = 0\n",
        "df_shuffled.ZIP_Code[df_shuffled.ZIP_Code =='Number'] = 0\n",
        "df_shuffled.ZIP_Code[df_shuffled.ZIP_Code =='?'] = 0\n",
        "df_shuffled.ZIP_Code[df_shuffled.ZIP_Code ==''] = 0\n",
        "df_shuffled.ZIP_Code[df_shuffled.ZIP_Code ==' '] = 0\n",
        "\n",
        "df_shuffled.ZIP_Code[df_shuffled.ZIP_Code =='É'] = 0\n",
        "\n",
        "df_shuffled['ZIP_Code'] = df_shuffled['ZIP_Code'].fillna(0)"
      ],
      "metadata": {
        "id": "roVQK0OWp_Z1"
      },
      "execution_count": null,
      "outputs": []
    },
    {
      "cell_type": "code",
      "source": [
        " df_shuffled['ZIP_Code'] = df_shuffled['ZIP_Code'].astype(str).astype(int)"
      ],
      "metadata": {
        "id": "ctTMIJ3Wp_Wb"
      },
      "execution_count": null,
      "outputs": []
    },
    {
      "cell_type": "code",
      "source": [
        "df_shuffled.CCAvg.value_counts()"
      ],
      "metadata": {
        "id": "Yq2524UXp_UC"
      },
      "execution_count": null,
      "outputs": []
    },
    {
      "cell_type": "code",
      "source": [
        "df_shuffled.CCAvg[df_shuffled.CCAvg =='?'] = 0\n",
        "df_shuffled.CCAvg[df_shuffled.CCAvg =='Nan'] = 0\n",
        "df_shuffled.CCAvg[df_shuffled.CCAvg =='Null'] = 0\n",
        "df_shuffled['CCAvg'] = df_shuffled['CCAvg'].fillna(0)\n",
        "df_shuffled.CCAvg[df_shuffled.CCAvg =='3,6'] = 3.6\n"
      ],
      "metadata": {
        "id": "uTHUEAIzp_Rp"
      },
      "execution_count": null,
      "outputs": []
    },
    {
      "cell_type": "code",
      "source": [
        "df_shuffled['CCAvg'] = df_shuffled['CCAvg'].astype(str).astype(float)"
      ],
      "metadata": {
        "id": "_WztrwG0p_PP"
      },
      "execution_count": null,
      "outputs": []
    },
    {
      "cell_type": "code",
      "source": [
        "df_shuffled.Mortgage[df_shuffled.Mortgage =='205,5'] = 205.5\n",
        "df_shuffled.Mortgage[df_shuffled.Mortgage =='Not Found'] = 0\n",
        "\n"
      ],
      "metadata": {
        "id": "Ui93CqJQp_Mw"
      },
      "execution_count": null,
      "outputs": []
    },
    {
      "cell_type": "code",
      "source": [
        "df_shuffled['Mortgage'] = df_shuffled['Mortgage'].astype(str).astype(float)"
      ],
      "metadata": {
        "id": "AWQGfkRlp_J3"
      },
      "execution_count": null,
      "outputs": []
    },
    {
      "cell_type": "code",
      "source": [
        "df_shuffled = df_shuffled.rename(columns={'Personal Loan': 'Personal_Loan'})\n"
      ],
      "metadata": {
        "id": "Hkj982R3p-_i"
      },
      "execution_count": null,
      "outputs": []
    },
    {
      "cell_type": "code",
      "source": [
        "df_shuffled.Personal_Loan[df_shuffled.Personal_Loan =='?'] = 0\n",
        "df_shuffled.Personal_Loan[df_shuffled.Personal_Loan == 0.0] = 0\n"
      ],
      "metadata": {
        "id": "IqQaxVfA3slm"
      },
      "execution_count": null,
      "outputs": []
    },
    {
      "cell_type": "code",
      "source": [
        "df_shuffled.Personal_Loan.value_counts()"
      ],
      "metadata": {
        "id": "VQHZeIU9W0Xv"
      },
      "execution_count": null,
      "outputs": []
    },
    {
      "cell_type": "code",
      "source": [
        "df_shuffled['Personal_Loan'] = df_shuffled['Personal_Loan'].astype(str).astype(int)"
      ],
      "metadata": {
        "id": "5FIsos6zVQ8H"
      },
      "execution_count": null,
      "outputs": []
    },
    {
      "cell_type": "code",
      "source": [
        "df_shuffled = df_shuffled.rename(columns={'Securities Account': 'Securities_Account'})\n"
      ],
      "metadata": {
        "id": "p2j06a0t7InV"
      },
      "execution_count": null,
      "outputs": []
    },
    {
      "cell_type": "code",
      "source": [
        "df_shuffled['Securities_Account'] = df_shuffled['Securities_Account'].fillna(0)\n"
      ],
      "metadata": {
        "id": "A4ntBi0g6bBG"
      },
      "execution_count": null,
      "outputs": []
    },
    {
      "cell_type": "code",
      "source": [
        "df_shuffled['Securities_Account'] = df_shuffled['Securities_Account'].astype(str).astype(float)"
      ],
      "metadata": {
        "id": "zS5m9CQS5Zx_"
      },
      "execution_count": null,
      "outputs": []
    },
    {
      "cell_type": "code",
      "source": [
        "df_shuffled.Online.value_counts()"
      ],
      "metadata": {
        "id": "U-ytopKA656V"
      },
      "execution_count": null,
      "outputs": []
    },
    {
      "cell_type": "code",
      "source": [
        "df_shuffled.Online[df_shuffled.Online =='one'] = 1"
      ],
      "metadata": {
        "id": "yl_djOS_71xN"
      },
      "execution_count": null,
      "outputs": []
    },
    {
      "cell_type": "code",
      "source": [
        "df_shuffled['Online'] = df_shuffled['Online'].astype(str).astype(int)"
      ],
      "metadata": {
        "id": "oQq8__wE71tr"
      },
      "execution_count": null,
      "outputs": []
    },
    {
      "cell_type": "code",
      "source": [
        "df_shuffled['CreditCard'] = df_shuffled['CreditCard'].fillna(0)\n",
        "df_shuffled.CreditCard[df_shuffled.CreditCard =='zero'] = 0"
      ],
      "metadata": {
        "id": "hHcz_2L271ra"
      },
      "execution_count": null,
      "outputs": []
    },
    {
      "cell_type": "code",
      "source": [
        "df_shuffled['CreditCard'] = df_shuffled['CreditCard'].astype(str).astype(int)"
      ],
      "metadata": {
        "id": "qk9_3cu271pA"
      },
      "execution_count": null,
      "outputs": []
    },
    {
      "cell_type": "code",
      "source": [
        "def winsorize_outliers(data, iqr_multiplier=1.5):\n",
        "    # Calculate the quartiles and IQR\n",
        "    q1, q3 = np.percentile(data, [25, 75])\n",
        "    iqr = q3 - q1\n",
        "\n",
        "    # Calculate the upper and lower whisker values\n",
        "    upper_whisker = q3 + (iqr_multiplier * iqr)\n",
        "    lower_whisker = q1 - (iqr_multiplier * iqr)\n",
        "\n",
        "    # Winsorize the data\n",
        "    data[data > upper_whisker] = upper_whisker\n",
        "    data[data < lower_whisker] = lower_whisker\n",
        "\n",
        "    return data"
      ],
      "metadata": {
        "id": "Kf-62YjI71mp"
      },
      "execution_count": null,
      "outputs": []
    },
    {
      "cell_type": "code",
      "source": [
        "df_shuffled.info()"
      ],
      "metadata": {
        "id": "lgzZWMbiT5Ik"
      },
      "execution_count": null,
      "outputs": []
    },
    {
      "cell_type": "code",
      "source": [
        "df_shuffled['ID'] = winsorize_outliers(df_shuffled['ID'])\n",
        "df_shuffled['Age'] = winsorize_outliers(df_shuffled['Age'])\n",
        "df_shuffled['Experience'] = winsorize_outliers(df_shuffled['Experience'])\n",
        "df_shuffled['Income'] = winsorize_outliers(df_shuffled['Income'])\n",
        "df_shuffled['ZIP_Code'] = winsorize_outliers(df_shuffled['ZIP_Code'])\n",
        "df_shuffled['Family'] = winsorize_outliers(df_shuffled['Family'])\n",
        "df_shuffled['CCAvg'] = winsorize_outliers(df_shuffled['CCAvg'])\n",
        "df_shuffled['Education'] = winsorize_outliers(df_shuffled['Education'])\n",
        "df_shuffled['Mortgage'] = winsorize_outliers(df_shuffled['Mortgage'])\n",
        "df_shuffled['Personal_Loan'] = winsorize_outliers(df_shuffled['Personal_Loan'])\n",
        "df_shuffled['Securities_Account'] = winsorize_outliers(df_shuffled['Securities_Account'])\n",
        "df_shuffled['Online'] = winsorize_outliers(df_shuffled['Online'])\n",
        "df_shuffled['CreditCard'] = winsorize_outliers(df_shuffled['CreditCard'])"
      ],
      "metadata": {
        "id": "oYuDK0sn71kG"
      },
      "execution_count": null,
      "outputs": []
    },
    {
      "cell_type": "code",
      "source": [
        "df_shuffled = df_shuffled[['ID', 'Age', 'Experience', 'Income', 'ZIP_Code', 'Family', 'CCAvg', 'Education', 'Mortgage', 'Securities_Account','Online', 'CreditCard', 'Personal_Loan' ]]"
      ],
      "metadata": {
        "id": "IZPzMSjQVXda"
      },
      "execution_count": null,
      "outputs": []
    },
    {
      "cell_type": "code",
      "source": [
        "X = df_shuffled.drop('Personal_Loan', axis=1)\n",
        "y = df_shuffled['Personal_Loan']"
      ],
      "metadata": {
        "id": "rL_ygFqyanIV"
      },
      "execution_count": null,
      "outputs": []
    },
    {
      "cell_type": "code",
      "source": [
        "X_train, X_test, y_train, y_test = train_test_split(X, y, test_size=0.3)\n",
        "X_val, X_test, y_val, y_test = train_test_split(X_test, y_test, test_size=0.5)"
      ],
      "metadata": {
        "id": "Cgp9yanOanji"
      },
      "execution_count": null,
      "outputs": []
    },
    {
      "cell_type": "code",
      "source": [],
      "metadata": {
        "id": "KhFdOnZXannB"
      },
      "execution_count": null,
      "outputs": []
    }
  ]
}